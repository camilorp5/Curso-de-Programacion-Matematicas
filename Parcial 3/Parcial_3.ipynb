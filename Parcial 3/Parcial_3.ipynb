{
  "nbformat": 4,
  "nbformat_minor": 0,
  "metadata": {
    "colab": {
      "provenance": []
    },
    "kernelspec": {
      "name": "python3",
      "display_name": "Python 3"
    },
    "language_info": {
      "name": "python"
    }
  },
  "cells": [
    {
      "cell_type": "markdown",
      "source": [
        "#Parcial 3\n",
        "*Camilo Rafael Pérez Chaves* -\n",
        "*112757564*\n",
        ">27 de frebrero del 2025\n",
        "😀💥\n",
        "---\n",
        "\n",
        "---\n",
        "\n",
        "\n",
        "\n"
      ],
      "metadata": {
        "id": "As_Ws7CfK4sT"
      }
    },
    {
      "cell_type": "code",
      "source": [
        "#Importando librerías\n",
        "import math\n",
        "import numpy as np\n",
        "import matplotlib.pyplot as plt\n",
        "import pandas as pd\n",
        "from google.colab import drive\n",
        "drive.mount('/content/drive')\n",
        "\n",
        "%cd /content/drive/MyDrive/Colab Notebooks/data"
      ],
      "metadata": {
        "id": "tqwtwOVjM78s",
        "colab": {
          "base_uri": "https://localhost:8080/",
          "height": 0
        },
        "outputId": "1dc7dde0-24c8-4a38-ae2b-3abc84fdd049"
      },
      "execution_count": 276,
      "outputs": [
        {
          "output_type": "stream",
          "name": "stdout",
          "text": [
            "Drive already mounted at /content/drive; to attempt to forcibly remount, call drive.mount(\"/content/drive\", force_remount=True).\n",
            "/content/drive/MyDrive/Colab Notebooks/data\n"
          ]
        }
      ]
    },
    {
      "cell_type": "markdown",
      "source": [
        "###Punto 1)\n",
        "\n",
        "Ajustar una curva cúbica a los datos. Grossman pag.444\n",
        "\n",
        "\\begin{array}{|c|c|}\n",
        "\\hline\n",
        "X_i & Y_i \\\\\n",
        "\\hline\n",
        "0.00 & 1.000 \\\\\n",
        "0.15 & 1.004 \\\\\n",
        "0.31 & 1.031 \\\\\n",
        "0.50 & 1.117 \\\\\n",
        "0.60 & 1.223 \\\\\n",
        "0.75 & 1.422 \\\\\n",
        "\\hline\n",
        "\\end{array}\n",
        "\n",
        "[GROSSMAN-- ALGEBRA LINEAL.pdf](https://drive.google.com/file/d/1t_BgZvgnNShi-xUR3rsyR8gB5ouNCCbS/view?usp=sharing)"
      ],
      "metadata": {
        "id": "w-bnNXfsJfvB"
      }
    },
    {
      "cell_type": "code",
      "source": [
        "#Grafiquemos los datos dados usando la librería matplotlib\n",
        "xi = [0, 0.15, 0.31, 0.50, 0.60, 0.75]\n",
        "yi = [1, 1.004, 1.031, 1.117, 1.223, 1.422]\n",
        "plt.plot(xi, yi,'o')\n",
        "#Recordemos que el último parámetro especifica el tipo de forma que\n",
        "#queremos graficar\n",
        "plt.xlabel('Datos X')\n",
        "plt.ylabel('Datos Y')\n",
        "plt.title('Gráfica de los datos')\n",
        "plt.show()"
      ],
      "metadata": {
        "colab": {
          "base_uri": "https://localhost:8080/",
          "height": 472
        },
        "id": "ZaxhbK9AKyT-",
        "outputId": "334c5561-5337-428f-a99e-4b7f325a5bc9"
      },
      "execution_count": 277,
      "outputs": [
        {
          "output_type": "display_data",
          "data": {
            "text/plain": [
              "<Figure size 640x480 with 1 Axes>"
            ],
            "image/png": "[encoded data removed]"
          },
          "metadata": {}
        }
      ]
    },
    {
      "cell_type": "code",
      "source": [
        "#Esta es una forma de tener los datos organizados y extraerlos después\n",
        "datos = pd.read_csv(\"hokaaa.csv\", sep=\";\", dtype=float)\n",
        "datos['(xi)^2'] = datos['xi'] ** 2\n",
        "datos['(xi)^3'] = datos['xi'] ** 3\n",
        "datos"
      ],
      "metadata": {
        "colab": {
          "base_uri": "https://localhost:8080/",
          "height": 238
        },
        "id": "Ck5Z0WIqk7k2",
        "outputId": "157e84c5-c940-4c3e-b934-2ea30a97ba9a"
      },
      "execution_count": 278,
      "outputs": [
        {
          "output_type": "execute_result",
          "data": {
            "text/plain": [
              "     xi     yi  (xi)^2    (xi)^3\n",
              "0  0.00  1.000  0.0000  0.000000\n",
              "1  0.15  1.004  0.0225  0.003375\n",
              "2  0.31  1.031  0.0961  0.029791\n",
              "3  0.50  1.117  0.2500  0.125000\n",
              "4  0.60  1.223  0.3600  0.216000\n",
              "5  1.75  1.422  3.0625  5.359375"
            ],
            "text/html": [
              "\n",
              "  <div id=\"df-7bbea827-3f20-49b4-8e15-bd16ca16b756\" class=\"colab-df-container\">\n",
              "    <div>\n",
              "<style scoped>\n",
              "    .dataframe tbody tr th:only-of-type {\n",
              "        vertical-align: middle;\n",
              "    }\n",
              "\n",
              "    .dataframe tbody tr th {\n",
              "        vertical-align: top;\n",
              "    }\n",
              "\n",
              "    .dataframe thead th {\n",
              "        text-align: right;\n",
              "    }\n",
              "</style>\n",
              "<table border=\"1\" class=\"dataframe\">\n",
              "  <thead>\n",
              "    <tr style=\"text-align: right;\">\n",
              "      <th></th>\n",
              "      <th>xi</th>\n",
              "      <th>yi</th>\n",
              "      <th>(xi)^2</th>\n",
              "      <th>(xi)^3</th>\n",
              "    </tr>\n",
              "  </thead>\n",
              "  <tbody>\n",
              "    <tr>\n",
              "      <th>0</th>\n",
              "      <td>0.00</td>\n",
              "      <td>1.000</td>\n",
              "      <td>0.0000</td>\n",
              "      <td>0.000000</td>\n",
              "    </tr>\n",
              "    <tr>\n",
              "      <th>1</th>\n",
              "      <td>0.15</td>\n",
              "      <td>1.004</td>\n",
              "      <td>0.0225</td>\n",
              "      <td>0.003375</td>\n",
              "    </tr>\n",
              "    <tr>\n",
              "      <th>2</th>\n",
              "      <td>0.31</td>\n",
              "      <td>1.031</td>\n",
              "      <td>0.0961</td>\n",
              "      <td>0.029791</td>\n",
              "    </tr>\n",
              "    <tr>\n",
              "      <th>3</th>\n",
              "      <td>0.50</td>\n",
              "      <td>1.117</td>\n",
              "      <td>0.2500</td>\n",
              "      <td>0.125000</td>\n",
              "    </tr>\n",
              "    <tr>\n",
              "      <th>4</th>\n",
              "      <td>0.60</td>\n",
              "      <td>1.223</td>\n",
              "      <td>0.3600</td>\n",
              "      <td>0.216000</td>\n",
              "    </tr>\n",
              "    <tr>\n",
              "      <th>5</th>\n",
              "      <td>1.75</td>\n",
              "      <td>1.422</td>\n",
              "      <td>3.0625</td>\n",
              "      <td>5.359375</td>\n",
              "    </tr>\n",
              "  </tbody>\n",
              "</table>\n",
              "</div>\n",
              "    <div class=\"colab-df-buttons\">\n",
              "\n",
              "  <div class=\"colab-df-container\">\n",
              "    <button class=\"colab-df-convert\" onclick=\"convertToInteractive('df-7bbea827-3f20-49b4-8e15-bd16ca16b756')\"\n",
              "            title=\"Convert this dataframe to an interactive table.\"\n",
              "            style=\"display:none;\">\n",
              "\n",
              "  <svg xmlns=\"http://www.w3.org/2000/svg\" height=\"24px\" viewBox=\"0 -960 960 960\">\n",
              "    <path d=\"M120-120v-720h720v720H120Zm60-500h600v-160H180v160Zm220 220h160v-160H400v160Zm0 220h160v-160H400v160ZM180-400h160v-160H180v160Zm440 0h160v-160H620v160ZM180-180h160v-160H180v160Zm440 0h160v-160H620v160Z\"/>\n",
              "  </svg>\n",
              "    </button>\n",
              "\n",
              "  <style>\n",
              "    .colab-df-container {\n",
              "      display:flex;\n",
              "      gap: 12px;\n",
              "    }\n",
              "\n",
              "    .colab-df-convert {\n",
              "      background-color: #E8F0FE;\n",
              "      border: none;\n",
              "      border-radius: 50%;\n",
              "      cursor: pointer;\n",
              "      display: none;\n",
              "      fill: #1967D2;\n",
              "      height: 32px;\n",
              "      padding: 0 0 0 0;\n",
              "      width: 32px;\n",
              "    }\n",
              "\n",
              "    .colab-df-convert:hover {\n",
              "      background-color: #E2EBFA;\n",
              "      box-shadow: 0px 1px 2px rgba(60, 64, 67, 0.3), 0px 1px 3px 1px rgba(60, 64, 67, 0.15);\n",
              "      fill: #174EA6;\n",
              "    }\n",
              "\n",
              "    .colab-df-buttons div {\n",
              "      margin-bottom: 4px;\n",
              "    }\n",
              "\n",
              "    [theme=dark] .colab-df-convert {\n",
              "      background-color: #3B4455;\n",
              "      fill: #D2E3FC;\n",
              "    }\n",
              "\n",
              "    [theme=dark] .colab-df-convert:hover {\n",
              "      background-color: #434B5C;\n",
              "      box-shadow: 0px 1px 3px 1px rgba(0, 0, 0, 0.15);\n",
              "      filter: drop-shadow(0px 1px 2px rgba(0, 0, 0, 0.3));\n",
              "      fill: #FFFFFF;\n",
              "    }\n",
              "  </style>\n",
              "\n",
              "    <script>\n",
              "      const buttonEl =\n",
              "        document.querySelector('#df-7bbea827-3f20-49b4-8e15-bd16ca16b756 button.colab-df-convert');\n",
              "      buttonEl.style.display =\n",
              "        google.colab.kernel.accessAllowed ? 'block' : 'none';\n",
              "\n",
              "      async function convertToInteractive(key) {\n",
              "        const element = document.querySelector('#df-7bbea827-3f20-49b4-8e15-bd16ca16b756');\n",
              "        const dataTable =\n",
              "          await google.colab.kernel.invokeFunction('convertToInteractive',\n",
              "                                                    [key], {});\n",
              "        if (!dataTable) return;\n",
              "\n",
              "        const docLinkHtml = 'Like what you see? Visit the ' +\n",
              "          '<a target=\"_blank\" href=https://colab.research.google.com/notebooks/data_table.ipynb>data table notebook</a>'\n",
              "          + ' to learn more about interactive tables.';\n",
              "        element.innerHTML = '';\n",
              "        dataTable['output_type'] = 'display_data';\n",
              "        await google.colab.output.renderOutput(dataTable, element);\n",
              "        const docLink = document.createElement('div');\n",
              "        docLink.innerHTML = docLinkHtml;\n",
              "        element.appendChild(docLink);\n",
              "      }\n",
              "    </script>\n",
              "  </div>\n",
              "\n",
              "\n",
              "<div id=\"df-2d1f8258-8487-49e3-abd8-6cf8f72c9fb2\">\n",
              "  <button class=\"colab-df-quickchart\" onclick=\"quickchart('df-2d1f8258-8487-49e3-abd8-6cf8f72c9fb2')\"\n",
              "            title=\"Suggest charts\"\n",
              "            style=\"display:none;\">\n",
              "\n",
              "<svg xmlns=\"http://www.w3.org/2000/svg\" height=\"24px\"viewBox=\"0 0 24 24\"\n",
              "     width=\"24px\">\n",
              "    <g>\n",
              "        <path d=\"M19 3H5c-1.1 0-2 .9-2 2v14c0 1.1.9 2 2 2h14c1.1 0 2-.9 2-2V5c0-1.1-.9-2-2-2zM9 17H7v-7h2v7zm4 0h-2V7h2v10zm4 0h-2v-4h2v4z\"/>\n",
              "    </g>\n",
              "</svg>\n",
              "  </button>\n",
              "\n",
              "<style>\n",
              "  .colab-df-quickchart {\n",
              "      --bg-color: #E8F0FE;\n",
              "      --fill-color: #1967D2;\n",
              "      --hover-bg-color: #E2EBFA;\n",
              "      --hover-fill-color: #174EA6;\n",
              "      --disabled-fill-color: #AAA;\n",
              "      --disabled-bg-color: #DDD;\n",
              "  }\n",
              "\n",
              "  [theme=dark] .colab-df-quickchart {\n",
              "      --bg-color: #3B4455;\n",
              "      --fill-color: #D2E3FC;\n",
              "      --hover-bg-color: #434B5C;\n",
              "      --hover-fill-color: #FFFFFF;\n",
              "      --disabled-bg-color: #3B4455;\n",
              "      --disabled-fill-color: #666;\n",
              "  }\n",
              "\n",
              "  .colab-df-quickchart {\n",
              "    background-color: var(--bg-color);\n",
              "    border: none;\n",
              "    border-radius: 50%;\n",
              "    cursor: pointer;\n",
              "    display: none;\n",
              "    fill: var(--fill-color);\n",
              "    height: 32px;\n",
              "    padding: 0;\n",
              "    width: 32px;\n",
              "  }\n",
              "\n",
              "  .colab-df-quickchart:hover {\n",
              "    background-color: var(--hover-bg-color);\n",
              "    box-shadow: 0 1px 2px rgba(60, 64, 67, 0.3), 0 1px 3px 1px rgba(60, 64, 67, 0.15);\n",
              "    fill: var(--button-hover-fill-color);\n",
              "  }\n",
              "\n",
              "  .colab-df-quickchart-complete:disabled,\n",
              "  .colab-df-quickchart-complete:disabled:hover {\n",
              "    background-color: var(--disabled-bg-color);\n",
              "    fill: var(--disabled-fill-color);\n",
              "    box-shadow: none;\n",
              "  }\n",
              "\n",
              "  .colab-df-spinner {\n",
              "    border: 2px solid var(--fill-color);\n",
              "    border-color: transparent;\n",
              "    border-bottom-color: var(--fill-color);\n",
              "    animation:\n",
              "      spin 1s steps(1) infinite;\n",
              "  }\n",
              "\n",
              "  @keyframes spin {\n",
              "    0% {\n",
              "      border-color: transparent;\n",
              "      border-bottom-color: var(--fill-color);\n",
              "      border-left-color: var(--fill-color);\n",
              "    }\n",
              "    20% {\n",
              "      border-color: transparent;\n",
              "      border-left-color: var(--fill-color);\n",
              "      border-top-color: var(--fill-color);\n",
              "    }\n",
              "    30% {\n",
              "      border-color: transparent;\n",
              "      border-left-color: var(--fill-color);\n",
              "      border-top-color: var(--fill-color);\n",
              "      border-right-color: var(--fill-color);\n",
              "    }\n",
              "    40% {\n",
              "      border-color: transparent;\n",
              "      border-right-color: var(--fill-color);\n",
              "      border-top-color: var(--fill-color);\n",
              "    }\n",
              "    60% {\n",
              "      border-color: transparent;\n",
              "      border-right-color: var(--fill-color);\n",
              "    }\n",
              "    80% {\n",
              "      border-color: transparent;\n",
              "      border-right-color: var(--fill-color);\n",
              "      border-bottom-color: var(--fill-color);\n",
              "    }\n",
              "    90% {\n",
              "      border-color: transparent;\n",
              "      border-bottom-color: var(--fill-color);\n",
              "    }\n",
              "  }\n",
              "</style>\n",
              "\n",
              "  <script>\n",
              "    async function quickchart(key) {\n",
              "      const quickchartButtonEl =\n",
              "        document.querySelector('#' + key + ' button');\n",
              "      quickchartButtonEl.disabled = true;  // To prevent multiple clicks.\n",
              "      quickchartButtonEl.classList.add('colab-df-spinner');\n",
              "      try {\n",
              "        const charts = await google.colab.kernel.invokeFunction(\n",
              "            'suggestCharts', [key], {});\n",
              "      } catch (error) {\n",
              "        console.error('Error during call to suggestCharts:', error);\n",
              "      }\n",
              "      quickchartButtonEl.classList.remove('colab-df-spinner');\n",
              "      quickchartButtonEl.classList.add('colab-df-quickchart-complete');\n",
              "    }\n",
              "    (() => {\n",
              "      let quickchartButtonEl =\n",
              "        document.querySelector('#df-2d1f8258-8487-49e3-abd8-6cf8f72c9fb2 button');\n",
              "      quickchartButtonEl.style.display =\n",
              "        google.colab.kernel.accessAllowed ? 'block' : 'none';\n",
              "    })();\n",
              "  </script>\n",
              "</div>\n",
              "\n",
              "  <div id=\"id_4abeab17-b66a-4bbb-b519-7e991fcb762d\">\n",
              "    <style>\n",
              "      .colab-df-generate {\n",
              "        background-color: #E8F0FE;\n",
              "        border: none;\n",
              "        border-radius: 50%;\n",
              "        cursor: pointer;\n",
              "        display: none;\n",
              "        fill: #1967D2;\n",
              "        height: 32px;\n",
              "        padding: 0 0 0 0;\n",
              "        width: 32px;\n",
              "      }\n",
              "\n",
              "      .colab-df-generate:hover {\n",
              "        background-color: #E2EBFA;\n",
              "        box-shadow: 0px 1px 2px rgba(60, 64, 67, 0.3), 0px 1px 3px 1px rgba(60, 64, 67, 0.15);\n",
              "        fill: #174EA6;\n",
              "      }\n",
              "\n",
              "      [theme=dark] .colab-df-generate {\n",
              "        background-color: #3B4455;\n",
              "        fill: #D2E3FC;\n",
              "      }\n",
              "\n",
              "      [theme=dark] .colab-df-generate:hover {\n",
              "        background-color: #434B5C;\n",
              "        box-shadow: 0px 1px 3px 1px rgba(0, 0, 0, 0.15);\n",
              "        filter: drop-shadow(0px 1px 2px rgba(0, 0, 0, 0.3));\n",
              "        fill: #FFFFFF;\n",
              "      }\n",
              "    </style>\n",
              "    <button class=\"colab-df-generate\" onclick=\"generateWithVariable('datos')\"\n",
              "            title=\"Generate code using this dataframe.\"\n",
              "            style=\"display:none;\">\n",
              "\n",
              "  <svg xmlns=\"http://www.w3.org/2000/svg\" height=\"24px\"viewBox=\"0 0 24 24\"\n",
              "       width=\"24px\">\n",
              "    <path d=\"M7,19H8.4L18.45,9,17,7.55,7,17.6ZM5,21V16.75L18.45,3.32a2,2,0,0,1,2.83,0l1.4,1.43a1.91,1.91,0,0,1,.58,1.4,1.91,1.91,0,0,1-.58,1.4L9.25,21ZM18.45,9,17,7.55Zm-12,3A5.31,5.31,0,0,0,4.9,8.1,5.31,5.31,0,0,0,1,6.5,5.31,5.31,0,0,0,4.9,4.9,5.31,5.31,0,0,0,6.5,1,5.31,5.31,0,0,0,8.1,4.9,5.31,5.31,0,0,0,12,6.5,5.46,5.46,0,0,0,6.5,12Z\"/>\n",
              "  </svg>\n",
              "    </button>\n",
              "    <script>\n",
              "      (() => {\n",
              "      const buttonEl =\n",
              "        document.querySelector('#id_4abeab17-b66a-4bbb-b519-7e991fcb762d button.colab-df-generate');\n",
              "      buttonEl.style.display =\n",
              "        google.colab.kernel.accessAllowed ? 'block' : 'none';\n",
              "\n",
              "      buttonEl.onclick = () => {\n",
              "        google.colab.notebook.generateWithVariable('datos');\n",
              "      }\n",
              "      })();\n",
              "    </script>\n",
              "  </div>\n",
              "\n",
              "    </div>\n",
              "  </div>\n"
            ],
            "application/vnd.google.colaboratory.intrinsic+json": {
              "type": "dataframe",
              "variable_name": "datos",
              "summary": "{\n  \"name\": \"datos\",\n  \"rows\": 6,\n  \"fields\": [\n    {\n      \"column\": \"xi\",\n      \"properties\": {\n        \"dtype\": \"number\",\n        \"std\": 0.6269104135892676,\n        \"min\": 0.0,\n        \"max\": 1.75,\n        \"num_unique_values\": 6,\n        \"samples\": [\n          0.0,\n          0.15,\n          1.75\n        ],\n        \"semantic_type\": \"\",\n        \"description\": \"\"\n      }\n    },\n    {\n      \"column\": \"yi\",\n      \"properties\": {\n        \"dtype\": \"number\",\n        \"std\": 0.16529418219243733,\n        \"min\": 1.0,\n        \"max\": 1.422,\n        \"num_unique_values\": 6,\n        \"samples\": [\n          1.0,\n          1.004,\n          1.422\n        ],\n        \"semantic_type\": \"\",\n        \"description\": \"\"\n      }\n    },\n    {\n      \"column\": \"(xi)^2\",\n      \"properties\": {\n        \"dtype\": \"number\",\n        \"std\": 1.1987778088536676,\n        \"min\": 0.0,\n        \"max\": 3.0625,\n        \"num_unique_values\": 6,\n        \"samples\": [\n          0.0,\n          0.0225,\n          3.0625\n        ],\n        \"semantic_type\": \"\",\n        \"description\": \"\"\n      }\n    },\n    {\n      \"column\": \"(xi)^3\",\n      \"properties\": {\n        \"dtype\": \"number\",\n        \"std\": 2.1590351958757332,\n        \"min\": 0.0,\n        \"max\": 5.359375,\n        \"num_unique_values\": 6,\n        \"samples\": [\n          0.0,\n          0.0033749999999999995,\n          5.359375\n        ],\n        \"semantic_type\": \"\",\n        \"description\": \"\"\n      }\n    }\n  ]\n}"
            }
          },
          "metadata": {},
          "execution_count": 278
        }
      ]
    },
    {
      "cell_type": "markdown",
      "source": [
        "Planteamos el sistema de ecuaciones asi,\n",
        "\n",
        "\n",
        "$$\n",
        "1.000 = a +b(0.00)+c(0.00)^2+d(0.00)^3\n",
        "$$\n",
        "\n",
        "$$\n",
        "1.004 = a +b(0.15)+c(0.15)^2+d(0.15)^3\n",
        "$$\n",
        "\n",
        "$$\n",
        "1.031 = a +b(0.31)+c(0.31)^2+d(0.31)^3\n",
        "$$\n",
        "$$\\vdots$$\n",
        "$$\n",
        "1.422 = a +b(1.75)+c(1.75)^2+d(1.75)^3\n",
        "$$\n",
        "\n",
        "tal que $y = Au$ dónde\n",
        "\n",
        "$$\n",
        "A = \\begin{bmatrix}\n",
        "(1) & (x_1) & x_1^2 & x_1^3 \\\\\n",
        "(1) & (x_2) & x_2^2 & x_2^3 \\\\\n",
        "\\vdots & \\vdots & \\vdots & \\vdots\\\\\n",
        "(1) & (x_6) & x_6^2 & x_6^3 \\\\\n",
        "\\end{bmatrix},\n",
        "y=\\begin{bmatrix}\n",
        "1.000\\\\\n",
        "1.004\\\\\n",
        "\\vdots\\\\\n",
        "1.422\\\\\n",
        "\\end{bmatrix} y\n",
        "u = \\begin{bmatrix}\n",
        "a\\\\\n",
        "b\\\\\n",
        "\\vdots\\\\\n",
        "d\\\\\n",
        "\\end{bmatrix}\n",
        "$$\n"
      ],
      "metadata": {
        "id": "CED_OezDofsx"
      }
    },
    {
      "cell_type": "code",
      "source": [
        "# Crear la matriz A con los datos dados\n",
        "matriz = np.array([\n",
        "    [1, xi[0], (xi[0])**2, (xi[0])**3],\n",
        "    [1, xi[1], (xi[1])**2, (xi[1])**3],\n",
        "    [1, xi[2], (xi[2])**2, (xi[2])**3],\n",
        "    [1, xi[3], (xi[3])**2, (xi[3])**3],\n",
        "    [1, xi[4], (xi[4])**2, (xi[4])**3],\n",
        "    [1, xi[5], (xi[5])**2, (xi[5])**3],\n",
        "])\n",
        "\n",
        "matriz_transpuesta = np.transpose(matriz)\n",
        "\n",
        "vector_y = np.array([1, 1.004, 1.031, 1.117, 1.223, 1.422])\n",
        "matriz\n",
        "\n",
        "print(f'Matriz A:\\n{matriz}')\n",
        "print(f'Matriz transpuesta de A:\\n{matriz}')\n",
        "print(f'Vector Y:\\n{vector_y}')"
      ],
      "metadata": {
        "colab": {
          "base_uri": "https://localhost:8080/",
          "height": 0
        },
        "id": "oLLhKXCmTvoN",
        "outputId": "15ad0ed4-2f25-4feb-f516-bcc35bad3a60"
      },
      "execution_count": 279,
      "outputs": [
        {
          "output_type": "stream",
          "name": "stdout",
          "text": [
            "Matriz A:\n",
            "[[1.       0.       0.       0.      ]\n",
            " [1.       0.15     0.0225   0.003375]\n",
            " [1.       0.31     0.0961   0.029791]\n",
            " [1.       0.5      0.25     0.125   ]\n",
            " [1.       0.6      0.36     0.216   ]\n",
            " [1.       0.75     0.5625   0.421875]]\n",
            "Matriz transpuesta de A:\n",
            "[[1.       0.       0.       0.      ]\n",
            " [1.       0.15     0.0225   0.003375]\n",
            " [1.       0.31     0.0961   0.029791]\n",
            " [1.       0.5      0.25     0.125   ]\n",
            " [1.       0.6      0.36     0.216   ]\n",
            " [1.       0.75     0.5625   0.421875]]\n",
            "Vector Y:\n",
            "[1.    1.004 1.031 1.117 1.223 1.422]\n"
          ]
        }
      ]
    },
    {
      "cell_type": "code",
      "source": [
        "#ahora diseñemos el modelo para determinar que curva se asemeja más\n",
        "mult = np.matmul(matriz_transpuesta, matriz)\n",
        "\n",
        "inversa = np.linalg.inv(mult)\n",
        "resultado = np.matmul(inversa, matriz_transpuesta)\n",
        "resultado_final = np.matmul(resultado, vector_y)\n",
        "resultado_final"
      ],
      "metadata": {
        "colab": {
          "base_uri": "https://localhost:8080/",
          "height": 0
        },
        "id": "aLUAsdTLRL-e",
        "outputId": "7ced7baa-8ecc-46ac-8be2-9de1ac659275"
      },
      "execution_count": 280,
      "outputs": [
        {
          "output_type": "execute_result",
          "data": {
            "text/plain": [
              "array([ 1.00043981, -0.00154099, -0.01150567,  1.02102256])"
            ]
          },
          "metadata": {},
          "execution_count": 280
        }
      ]
    },
    {
      "cell_type": "code",
      "source": [
        "#Hemos calculado los parámetros necesarios para constuir la curva\n",
        "#que mas se asemeja a la distribución de los puntos, grafiquemos esta curva\n",
        "\n",
        "def f(x):\n",
        "    return 1.00043981 - 0.00154099 * x - 0.01150567 * x**2 + 1.02102256 * x**3\n",
        "\n",
        "x = np.linspace(-1/5, 1, 400)\n",
        "\n",
        "y = f(x)\n",
        "\n",
        "plt.plot(x, y, label=r'$f(x) = 1.00043981 - 0.00154099 x - 0.01150567 x^2 + 1.02102256 x^3$', color='blue')\n",
        "plt.scatter(xi, yi, label='Puntos', color='red')\n",
        "\n",
        "plt.axhline(0, color='black', linewidth=1)  # Eje X\n",
        "plt.axvline(0, color='black', linewidth=1)  # Eje Y\n",
        "plt.title('Gráfica de la función f(x)')\n",
        "plt.xlabel('x')\n",
        "plt.ylabel('f(x)')\n",
        "\n",
        "plt.legend()\n"
      ],
      "metadata": {
        "colab": {
          "base_uri": "https://localhost:8080/",
          "height": 490
        },
        "id": "l0m7BcGUaPEi",
        "outputId": "08352953-ef71-457d-b2bd-3f2ec025c5ad"
      },
      "execution_count": 281,
      "outputs": [
        {
          "output_type": "execute_result",
          "data": {
            "text/plain": [
              "<matplotlib.legend.Legend at 0x79fbfeeb3590>"
            ]
          },
          "metadata": {},
          "execution_count": 281
        },
        {
          "output_type": "display_data",
          "data": {
            "text/plain": [
              "<Figure size 640x480 with 1 Axes>"
            ],
            "image/png": "[encoded data removed]"
          },
          "metadata": {}
        }
      ]
    },
    {
      "cell_type": "markdown",
      "source": [
        "###Algoritmo de la secante\n",
        "2. Implementar el algoritmo de la secante para aproximación de raíces\n",
        "y úselo para encontrar una raíz del polinomio\n",
        "\n",
        "$$f(x) = 230x^4 + 18x^3 + 9x^2 - 221x - 9$$\n",
        "\n",
        "Burden pag. 72\n",
        "\n",
        "[BURDEN NUMERICAL ANALYSIS ED 09.pdf](https://drive.google.com/file/d/1dmYwI3YpMelYEzpX5OlxPdIAHZxICqST/view?usp=sharing)"
      ],
      "metadata": {
        "id": "a-TkgbnTJuyY"
      }
    },
    {
      "cell_type": "markdown",
      "source": [
        "\n",
        "\n",
        "---\n",
        "\n",
        "\n",
        "### Método de la Secante para Estimar Raíces\n",
        "\n",
        "El método de la secante es un método numérico utilizado para encontrar aproximaciones de las raíces de una función $f(x) = 0$. A diferencia del método de Newton-Raphson, no requiere el cálculo de la derivada, sino que utiliza una aproximación mediante una secante entre dos puntos iniciales.\n",
        "\n",
        "Dado dos puntos iniciales $x_0$ y $x_1$, la siguiente aproximación se calcula con la fórmula:\n",
        "$$\n",
        "x_{n+1} = x_n - f(x_n) \\frac{x_n - x_{n-1}}{f(x_n) - f(x_{n-1})}\n",
        "$$\n",
        "\n",
        "\n",
        "\n",
        "---\n",
        "\n"
      ],
      "metadata": {
        "id": "nm1G_Dx8FQYl"
      }
    },
    {
      "cell_type": "code",
      "source": [
        "#Realicemos un bosquejo de la gráfica para ver en donde pueden estar\n",
        "#las posibles raíces, y así determinar el valor de inicio\n",
        "\n",
        "def g(x):\n",
        "    return -9 - (221 * x) + 9 * x**2 + 18 * x**3 + 230 * x**4\n",
        "\n",
        "#Escojamos valores óptimos para graficar la función de manera óptima\n",
        "x_data = np.linspace(-0.25, 1.3, 1000)\n",
        "\n",
        "y_data = g(x_data)\n",
        "\n",
        "plt.plot(x_data, y_data, label=r'$f(x) = 230 x^4 + 18 x^3 + 9x^2  - 221 x -9 $', color='blue')\n",
        "\n",
        "plt.axhline(0, color='red', linewidth=1)  # Eje X\n",
        "plt.axvline(0, color='red', linewidth=1)  # Eje Y\n",
        "plt.title('Gráfica de la función f(x)')\n",
        "plt.xlabel('x')\n",
        "plt.ylabel('f(x)')\n",
        "\n",
        "plt.legend()\n"
      ],
      "metadata": {
        "colab": {
          "base_uri": "https://localhost:8080/",
          "height": 490
        },
        "id": "mUs4zk_tKYoE",
        "outputId": "4a372bc9-d681-4b13-9a60-72dec28a0190"
      },
      "execution_count": 282,
      "outputs": [
        {
          "output_type": "execute_result",
          "data": {
            "text/plain": [
              "<matplotlib.legend.Legend at 0x79fbfeb19710>"
            ]
          },
          "metadata": {},
          "execution_count": 282
        },
        {
          "output_type": "display_data",
          "data": {
            "text/plain": [
              "<Figure size 640x480 with 1 Axes>"
            ],
            "image/png": "[encoded data removed]"
          },
          "metadata": {}
        }
      ]
    },
    {
      "cell_type": "code",
      "source": [
        "#Definimos la función que nos dara una proximación a la raíces de esta función\n",
        "def secante_aprox(f, x0, x1, N):\n",
        "  for k in range(1, N+1):\n",
        "    x2 = x1 - (f(x1) * (x1 - x0)) / (f(x1) - f(x0))\n",
        "  x0=x1\n",
        "  x1=x2\n",
        "  return x2"
      ],
      "metadata": {
        "id": "5mZn_2ry_1am"
      },
      "execution_count": 283,
      "outputs": []
    },
    {
      "cell_type": "code",
      "source": [
        "funcion= lambda x: 230*(x**4)+18*(x**3)+9*(x**2)-221*x-9"
      ],
      "metadata": {
        "id": "kUMttrtgAMPC"
      },
      "execution_count": 284,
      "outputs": []
    },
    {
      "cell_type": "markdown",
      "source": [
        "Podemos ver por la gráfica que la función tiene dos raíces reales una menor que 0 y otra mayor que cero. Entonces escojamos los valores de inico y fin tal que la aproximación sea la más exacta posible."
      ],
      "metadata": {
        "id": "40kocq0DIaz8"
      }
    },
    {
      "cell_type": "code",
      "source": [
        "secante_aprox(funcion, 1, 5, 10)\n",
        "\n",
        "#Esta es la ráiz positiva cercana a 1"
      ],
      "metadata": {
        "colab": {
          "base_uri": "https://localhost:8080/",
          "height": 0
        },
        "id": "SF3vwoCsAHt3",
        "outputId": "bee9d20e-d568-45a8-bb33-9878bc8f7242"
      },
      "execution_count": 285,
      "outputs": [
        {
          "output_type": "execute_result",
          "data": {
            "text/plain": [
              "0.9992556036502993"
            ]
          },
          "metadata": {},
          "execution_count": 285
        }
      ]
    },
    {
      "cell_type": "code",
      "source": [
        "secante_aprox(funcion, -5, 0, 100)\n",
        "\n",
        "#Esta es la ráiz negativa cercana a 0"
      ],
      "metadata": {
        "colab": {
          "base_uri": "https://localhost:8080/",
          "height": 0
        },
        "id": "1ECGjlyyGZMe",
        "outputId": "6e9b0ee4-da62-4723-e010-2b791ab2b026"
      },
      "execution_count": 286,
      "outputs": [
        {
          "output_type": "execute_result",
          "data": {
            "text/plain": [
              "-0.000315059861373661"
            ]
          },
          "metadata": {},
          "execution_count": 286
        }
      ]
    },
    {
      "cell_type": "code",
      "source": [
        "x_r = (-0.04065,0.96239)\n",
        "x_s = (-0.000315059861373661, 0.9992556036502993)\n",
        "\n",
        "print(\"En esta gráfica vemos los valores reales y las estimaciones\")\n",
        "\n",
        "def g(x):\n",
        "    return -9 - (221 * x) + 9 * x**2 + 18 * x**3 + 230 * x**4\n",
        "\n",
        "x_data = np.linspace(-0.25, 1.2, 1000)\n",
        "\n",
        "y_data = g(x_data)\n",
        "\n",
        "\n",
        "plt.axhline(0, color='red', linewidth=1)  # Eje X\n",
        "plt.axvline(0, color='red', linewidth=1)  # Eje Y\n",
        "\n",
        "plt.plot(x_data, y_data, label=r'$f(x) = 230 x^4 + 18 x^3 + 9x^2  - 221 x -9 $', color='blue')\n",
        "plt.scatter(x_r, [0,0], label='Raíz', color='black')\n",
        "\n",
        "plt.scatter(x_s, [0,0], label='Aproximación', color='brown')\n",
        "\n",
        "plt.title('Gráfica de la función f(x)')\n",
        "plt.xlabel('x')\n",
        "plt.ylabel('f(x)')\n",
        "\n",
        "plt.legend()\n"
      ],
      "metadata": {
        "colab": {
          "base_uri": "https://localhost:8080/",
          "height": 508
        },
        "id": "VbkgDDUfAjcQ",
        "outputId": "d6fec807-3505-4319-cb74-f593e3c1bd7e"
      },
      "execution_count": 287,
      "outputs": [
        {
          "output_type": "stream",
          "name": "stdout",
          "text": [
            "En esta gráfica vemos los valores reales y las estimaciones\n"
          ]
        },
        {
          "output_type": "execute_result",
          "data": {
            "text/plain": [
              "<matplotlib.legend.Legend at 0x79fbff52dd90>"
            ]
          },
          "metadata": {},
          "execution_count": 287
        },
        {
          "output_type": "display_data",
          "data": {
            "text/plain": [
              "<Figure size 640x480 with 1 Axes>"
            ],
            "image/png": "[encoded data removed]"
          },
          "metadata": {}
        }
      ]
    },
    {
      "cell_type": "markdown",
      "source": [
        "###Serie de Fourier\n",
        "3. Crear funciones que permitan graficar\n",
        "$$S_f(x, N) = \\frac{1}{2\\pi} + \\frac{2}{\\pi} \\sum_{k=1}^{N} \\frac{1 - \\cos(2k)}{4k^2}cos(kx)$$\n",
        "\n",
        "  para cualquier intervalo N y para x en un intervalo [a,b], por ejemplo\n",
        "N= 3,8,15 en [-10,10]."
      ],
      "metadata": {
        "id": "-E5RvAYPLUFy"
      }
    },
    {
      "cell_type": "code",
      "source": [
        "def sumatoria(x, N):\n",
        "  sum = 0\n",
        "  for k in range(1, N):\n",
        "    denominador = 1-np.cos(2*k)\n",
        "    numerador = 4*(k**2)\n",
        "    sum+=(denominador/numerador)*np.cos(k*x)\n",
        "  return (1/(2*np.pi))+(2/np.pi)*sum"
      ],
      "metadata": {
        "id": "m1r0AjszLWjf"
      },
      "execution_count": 288,
      "outputs": []
    },
    {
      "cell_type": "code",
      "source": [
        "sumatoria(np.pi/3, 10)"
      ],
      "metadata": {
        "colab": {
          "base_uri": "https://localhost:8080/",
          "height": 0
        },
        "id": "F-rYfcyoOIPI",
        "outputId": "a85a28d8-fedf-4e47-a60d-88ce6433a471"
      },
      "execution_count": 289,
      "outputs": [
        {
          "output_type": "execute_result",
          "data": {
            "text/plain": [
              "0.23739318226630607"
            ]
          },
          "metadata": {},
          "execution_count": 289
        }
      ]
    },
    {
      "cell_type": "code",
      "source": [
        "#Ahor agrafiquemos la serie\n",
        "def graficar_serie(inicio, final, N):\n",
        "  x_var = np.linspace(inicio, final, 1000)\n",
        "  y_var = sumatoria(x_var, N)\n",
        "  plt.plot(x_var, y_var)\n",
        "  return plt.show()\n",
        "\n",
        "graficar_serie(-10, 10, 100)"
      ],
      "metadata": {
        "colab": {
          "base_uri": "https://localhost:8080/",
          "height": 430
        },
        "id": "RkPRyfldLrCL",
        "outputId": "abe9a9f6-7c53-4e58-f7d4-d5626cb6faf6"
      },
      "execution_count": 303,
      "outputs": [
        {
          "output_type": "display_data",
          "data": {
            "text/plain": [
              "<Figure size 640x480 with 1 Axes>"
            ],
            "image/png": "[encoded data removed]"
          },
          "metadata": {}
        }
      ]
    }
  ]
}